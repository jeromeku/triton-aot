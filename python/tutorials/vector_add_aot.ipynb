{
 "cells": [
  {
   "cell_type": "code",
   "execution_count": 30,
   "metadata": {},
   "outputs": [],
   "source": [
    "import ast\n",
    "import inspect\n",
    "from pathlib import Path"
   ]
  },
  {
   "cell_type": "code",
   "execution_count": 31,
   "metadata": {},
   "outputs": [],
   "source": [
    "kernel_path = Path('vector_add_kernel.py')\n"
   ]
  },
  {
   "cell_type": "code",
   "execution_count": 33,
   "metadata": {},
   "outputs": [
    {
     "data": {
      "text/plain": [
       "\"import triton.language as tl\\n\\n\\ndef add_kernel(\\n    x_ptr,  # *Pointer* to first input vector.\\n    y_ptr,  # *Pointer* to second input vector.\\n    output_ptr,  # *Pointer* to output vector.\\n    n_elements,  # Size of the vector.\\n    BLOCK_SIZE: tl.constexpr,  # Number of elements each program should process.\\n    # NOTE:  so it can be used as a shape value.\\n):\\n    # There are multiple 'programs' processing different data. We identify which program\\n    # we are here:\\n    pid = tl.program_id(axis=0)  # We use a 1D launch grid so axis is 0.\\n    # This program will process inputs that are offset from the initial data.\\n    # For instance, if you had a vector of length 256 and block_size of 64, the programs\\n    # would each access the elements [0:64, 64:128, 128:192, 192:256].\\n    # Note that offsets is a list of pointers:\\n    block_start = pid * BLOCK_SIZE\\n    offsets = block_start + tl.arange(0, BLOCK_SIZE)\\n    # Create a mask to guard memory operations against out-of-bounds accesses.\\n    mask = offsets < n_elements\\n    # Load x and y from DRAM, masking out any extra elements in case the input is not a\\n    # multiple of the block size.\\n    x = tl.load(x_ptr + offsets, mask=mask)\\n    y = tl.load(y_ptr + offsets, mask=mask)\\n    output = x + y\\n    # Write x + y back to DRAM.\\n    tl.store(output_ptr + offsets, output, mask=mask)\\n\""
      ]
     },
     "execution_count": 33,
     "metadata": {},
     "output_type": "execute_result"
    }
   ],
   "source": [
    "kernel_path.read_text()"
   ]
  },
  {
   "cell_type": "code",
   "execution_count": 54,
   "metadata": {},
   "outputs": [],
   "source": [
    "tree = ast.parse(kernel_path.read_text())"
   ]
  },
  {
   "cell_type": "code",
   "execution_count": 55,
   "metadata": {},
   "outputs": [
    {
     "ename": "TypeError",
     "evalue": "expected Module node, got FunctionDef",
     "output_type": "error",
     "traceback": [
      "\u001b[0;31m---------------------------------------------------------------------------\u001b[0m",
      "\u001b[0;31mTypeError\u001b[0m                                 Traceback (most recent call last)",
      "\u001b[1;32m/notebooks/triton/python/tutorials/vector_add_aot.ipynb Cell 5\u001b[0m line \u001b[0;36m7\n\u001b[1;32m      <a href='vscode-notebook-cell://ssh-remote%2B7b22686f73744e616d65223a22322e7463702e6e67726f6b2e696f222c2275736572223a22726f6f74222c22706f7274223a31343332357d/notebooks/triton/python/tutorials/vector_add_aot.ipynb#X23sdnNjb2RlLXJlbW90ZQ%3D%3D?line=3'>4</a>\u001b[0m func_def \u001b[39m=\u001b[39m ast\u001b[39m.\u001b[39mparse(\u001b[39m'\u001b[39m\u001b[39mdef foo(x):\u001b[39m\u001b[39m\\n\u001b[39;00m\u001b[39m    return x + 1\u001b[39m\u001b[39m'\u001b[39m)\u001b[39m.\u001b[39mbody[\u001b[39m0\u001b[39m]\n\u001b[1;32m      <a href='vscode-notebook-cell://ssh-remote%2B7b22686f73744e616d65223a22322e7463702e6e67726f6b2e696f222c2275736572223a22726f6f74222c22706f7274223a31343332357d/notebooks/triton/python/tutorials/vector_add_aot.ipynb#X23sdnNjb2RlLXJlbW90ZQ%3D%3D?line=5'>6</a>\u001b[0m \u001b[39m# Compile the function definition into a code object\u001b[39;00m\n\u001b[0;32m----> <a href='vscode-notebook-cell://ssh-remote%2B7b22686f73744e616d65223a22322e7463702e6e67726f6b2e696f222c2275736572223a22726f6f74222c22706f7274223a31343332357d/notebooks/triton/python/tutorials/vector_add_aot.ipynb#X23sdnNjb2RlLXJlbW90ZQ%3D%3D?line=6'>7</a>\u001b[0m code \u001b[39m=\u001b[39m \u001b[39mcompile\u001b[39;49m(func_def, \u001b[39m'\u001b[39;49m\u001b[39m<string>\u001b[39;49m\u001b[39m'\u001b[39;49m, \u001b[39m'\u001b[39;49m\u001b[39mexec\u001b[39;49m\u001b[39m'\u001b[39;49m)\n\u001b[1;32m      <a href='vscode-notebook-cell://ssh-remote%2B7b22686f73744e616d65223a22322e7463702e6e67726f6b2e696f222c2275736572223a22726f6f74222c22706f7274223a31343332357d/notebooks/triton/python/tutorials/vector_add_aot.ipynb#X23sdnNjb2RlLXJlbW90ZQ%3D%3D?line=8'>9</a>\u001b[0m \u001b[39m# Create a Python function object from the code object\u001b[39;00m\n\u001b[1;32m     <a href='vscode-notebook-cell://ssh-remote%2B7b22686f73744e616d65223a22322e7463702e6e67726f6b2e696f222c2275736572223a22726f6f74222c22706f7274223a31343332357d/notebooks/triton/python/tutorials/vector_add_aot.ipynb#X23sdnNjb2RlLXJlbW90ZQ%3D%3D?line=9'>10</a>\u001b[0m foo \u001b[39m=\u001b[39m types\u001b[39m.\u001b[39mFunctionType(code, \u001b[39mglobals\u001b[39m(), \u001b[39m'\u001b[39m\u001b[39mfoo\u001b[39m\u001b[39m'\u001b[39m)\n",
      "\u001b[0;31mTypeError\u001b[0m: expected Module node, got FunctionDef"
     ]
    }
   ],
   "source": [
    "import types\n",
    "\n",
    "# Parse the function definition into an ast.FunctionDef object\n",
    "func_def = ast.parse('def foo(x):\\n    return x + 1').body[0]\n",
    "\n",
    "# Compile the function definition into a code object\n",
    "code = compile(func_def, '<string>', 'exec')\n",
    "\n",
    "# Create a Python function object from the code object\n",
    "foo = types.FunctionType(code, globals(), 'foo')\n",
    "\n",
    "# Call the function\n",
    "print(foo(5)) # prints 6"
   ]
  },
  {
   "cell_type": "code",
   "execution_count": null,
   "metadata": {},
   "outputs": [],
   "source": []
  },
  {
   "cell_type": "code",
   "execution_count": 62,
   "metadata": {},
   "outputs": [],
   "source": [
    "import ast\n",
    "\n",
    "code = \"\"\"\n",
    "import triton.language as tl\n",
    "\n",
    "def add_kernel(\n",
    "    x_ptr, # *Pointer* to first input vector.\n",
    "    y_ptr, # *Pointer* to second input vector.\n",
    "    output_ptr, # *Pointer* to output vector.\n",
    "    n_elements, # Size of the vector.\n",
    "    BLOCK_SIZE: tl.constexpr, # Number of elements each program should process.\n",
    "    # NOTE: so it can be used as a shape value.\n",
    "):\n",
    "    # There are multiple 'programs' processing different data. We identify which program\n",
    "    # we are here:\n",
    "\n",
    "    pid = tl.program_id(axis=0) # We use a 1D launch grid so axis is 0.\n",
    "    # This program will process inputs that are offset from the initial data.\n",
    "    # For instance, if you had a vector of length 256 and block_size of 64, the programs\n",
    "    # would each access the elements [0:64, 64:128, 128:192, 192:256].\n",
    "    # Note that offsets is a list of pointers:\n",
    "    block_start = pid * BLOCK_SIZE\n",
    "    offsets = block_start + tl.arange(0, BLOCK_SIZE)\n",
    "    # Create a mask to guard memory operations against out-of-bounds accesses.\n",
    "    mask = offsets < n_elements\n",
    "    # Load x and y from DRAM, masking out any extra elements in case the input is not a\n",
    "    # multiple of the block size.\n",
    "    x = tl.load(x_ptr + offsets, mask=mask)\n",
    "    y = tl.load(y_ptr + offsets, mask=mask)\n",
    "    output = x + y\n",
    "    # Write x + y back to DRAM.\n",
    "    tl.store(output_ptr + offsets, output, mask=mask)\n",
    "\"\"\"\n",
    "tree = ast.parse(code)\n",
    "\n",
    "functions = [node for node in tree.body if isinstance(node, ast.FunctionDef)]\n",
    "namespace = {}\n",
    "exec(code, namespace)\n"
   ]
  },
  {
   "cell_type": "code",
   "execution_count": 66,
   "metadata": {},
   "outputs": [],
   "source": [
    "fn_name = [f.name for f in functions][0]"
   ]
  },
  {
   "cell_type": "code",
   "execution_count": 67,
   "metadata": {},
   "outputs": [],
   "source": [
    "fn = namespace[fn_name] "
   ]
  },
  {
   "cell_type": "code",
   "execution_count": 73,
   "metadata": {},
   "outputs": [
    {
     "data": {
      "text/plain": [
       "<Signature (x_ptr, y_ptr, output_ptr, n_elements, BLOCK_SIZE: triton.language.core.constexpr)>"
      ]
     },
     "execution_count": 73,
     "metadata": {},
     "output_type": "execute_result"
    }
   ],
   "source": [
    "inspect.signature(fn)"
   ]
  },
  {
   "cell_type": "code",
   "execution_count": null,
   "metadata": {},
   "outputs": [],
   "source": [
    "\n",
    "# Parse the code into an AST\n",
    "tree = ast.parse(code)\n",
    "\n",
    "# Extract the function definition from the AST\n",
    "func_def = tree.body[0]\n",
    "\n",
    "# Compile the function definition into a Python function object\n",
    "# func = compile(func_def, \"<string>\", \"exec\")\n",
    "\n",
    "# Extract the globals from the AST\n",
    "# globals = {name: value for name, value in func_def.body[0].items()}\n",
    "\n",
    "# Add the function to the globals\n",
    "# globals[\"add_kernel\"] = func\n",
    "\n",
    "# # Execute the function\n",
    "# result = eval(func, globals)\n",
    "\n",
    "# print(result)"
   ]
  },
  {
   "cell_type": "code",
   "execution_count": 57,
   "metadata": {},
   "outputs": [
    {
     "data": {
      "text/plain": [
       "<ast.Import at 0x7f73f3eb1fa0>"
      ]
     },
     "execution_count": 57,
     "metadata": {},
     "output_type": "execute_result"
    }
   ],
   "source": [
    "func_def"
   ]
  },
  {
   "cell_type": "code",
   "execution_count": 39,
   "metadata": {},
   "outputs": [],
   "source": [
    "f = [n for n in nodes if isinstance(n, ast.FunctionDef)][0]"
   ]
  },
  {
   "cell_type": "code",
   "execution_count": 48,
   "metadata": {},
   "outputs": [
    {
     "data": {
      "text/plain": [
       "'x_ptr'"
      ]
     },
     "execution_count": 48,
     "metadata": {},
     "output_type": "execute_result"
    }
   ],
   "source": [
    "f.args.args[0].arg\n"
   ]
  },
  {
   "cell_type": "code",
   "execution_count": 52,
   "metadata": {},
   "outputs": [],
   "source": [
    "f_def = f.body[0].value"
   ]
  },
  {
   "cell_type": "code",
   "execution_count": 53,
   "metadata": {},
   "outputs": [
    {
     "ename": "TypeError",
     "evalue": "expected Module node, got Call",
     "output_type": "error",
     "traceback": [
      "\u001b[0;31m---------------------------------------------------------------------------\u001b[0m",
      "\u001b[0;31mTypeError\u001b[0m                                 Traceback (most recent call last)",
      "\u001b[1;32m/notebooks/triton/python/tutorials/vector_add_aot.ipynb Cell 9\u001b[0m line \u001b[0;36m1\n\u001b[0;32m----> <a href='vscode-notebook-cell://ssh-remote%2B7b22686f73744e616d65223a22322e7463702e6e67726f6b2e696f222c2275736572223a22726f6f74222c22706f7274223a31343332357d/notebooks/triton/python/tutorials/vector_add_aot.ipynb#X21sdnNjb2RlLXJlbW90ZQ%3D%3D?line=0'>1</a>\u001b[0m code \u001b[39m=\u001b[39m \u001b[39mcompile\u001b[39;49m(f_def, \u001b[39m'\u001b[39;49m\u001b[39m<string>\u001b[39;49m\u001b[39m'\u001b[39;49m, \u001b[39m'\u001b[39;49m\u001b[39mexec\u001b[39;49m\u001b[39m'\u001b[39;49m)\n",
      "\u001b[0;31mTypeError\u001b[0m: expected Module node, got Call"
     ]
    }
   ],
   "source": [
    "code = compile(f_def, '<string>', 'exec')"
   ]
  },
  {
   "cell_type": "code",
   "execution_count": null,
   "metadata": {},
   "outputs": [],
   "source": []
  },
  {
   "cell_type": "code",
   "execution_count": 10,
   "metadata": {},
   "outputs": [
    {
     "name": "stderr",
     "output_type": "stream",
     "text": [
      "2023-10-31 20:20:58.819 | DEBUG    | triton.compiler.debugging:wrapper:33 - args\n",
      "2023-10-31 20:20:58.820 | DEBUG    | triton.compiler.debugging:wrapper:34 - kwargs\n",
      "2023-10-31 20:20:58.821 | DEBUG    | triton.compiler.debugging:wrapper:36 - function.return_value\n"
     ]
    }
   ],
   "source": [
    "fn = exec(kernel_path.read_text())"
   ]
  },
  {
   "cell_type": "code",
   "execution_count": 22,
   "metadata": {},
   "outputs": [],
   "source": [
    "import ast\n",
    "\n",
    "func_def = ast.parse(\"def foo(): return 'Hello, World!'\").body[0]\n"
   ]
  },
  {
   "cell_type": "code",
   "execution_count": 23,
   "metadata": {},
   "outputs": [],
   "source": [
    "from triton.runtime.jit import JITFunction\n",
    "code = compile(ast.Module(body=[func_def], type_ignores=[]), filename='<ast>', mode='exec')\n",
    "\n",
    "# Execute the bytecode to define the function in the current scope\n",
    "exec(code)\n"
   ]
  },
  {
   "cell_type": "code",
   "execution_count": 25,
   "metadata": {},
   "outputs": [
    {
     "ename": "OSError",
     "evalue": "could not get source code",
     "output_type": "error",
     "traceback": [
      "\u001b[0;31m---------------------------------------------------------------------------\u001b[0m",
      "\u001b[0;31mOSError\u001b[0m                                   Traceback (most recent call last)",
      "\u001b[1;32m/notebooks/triton/python/tutorials/vector_add_aot.ipynb Cell 7\u001b[0m line \u001b[0;36m1\n\u001b[0;32m----> <a href='vscode-notebook-cell://ssh-remote%2B7b22686f73744e616d65223a22322e7463702e6e67726f6b2e696f222c2275736572223a22726f6f74222c22706f7274223a31343332357d/notebooks/triton/python/tutorials/vector_add_aot.ipynb#X11sdnNjb2RlLXJlbW90ZQ%3D%3D?line=0'>1</a>\u001b[0m inspect\u001b[39m.\u001b[39;49mgetsource(foo)\n",
      "File \u001b[0;32m/usr/lib/python3.9/inspect.py:1024\u001b[0m, in \u001b[0;36mgetsource\u001b[0;34m(object)\u001b[0m\n\u001b[1;32m   1018\u001b[0m \u001b[39mdef\u001b[39;00m \u001b[39mgetsource\u001b[39m(\u001b[39mobject\u001b[39m):\n\u001b[1;32m   1019\u001b[0m \u001b[39m    \u001b[39m\u001b[39m\"\"\"Return the text of the source code for an object.\u001b[39;00m\n\u001b[1;32m   1020\u001b[0m \n\u001b[1;32m   1021\u001b[0m \u001b[39m    The argument may be a module, class, method, function, traceback, frame,\u001b[39;00m\n\u001b[1;32m   1022\u001b[0m \u001b[39m    or code object.  The source code is returned as a single string.  An\u001b[39;00m\n\u001b[1;32m   1023\u001b[0m \u001b[39m    OSError is raised if the source code cannot be retrieved.\"\"\"\u001b[39;00m\n\u001b[0;32m-> 1024\u001b[0m     lines, lnum \u001b[39m=\u001b[39m getsourcelines(\u001b[39mobject\u001b[39;49m)\n\u001b[1;32m   1025\u001b[0m     \u001b[39mreturn\u001b[39;00m \u001b[39m'\u001b[39m\u001b[39m'\u001b[39m\u001b[39m.\u001b[39mjoin(lines)\n",
      "File \u001b[0;32m/usr/lib/python3.9/inspect.py:1006\u001b[0m, in \u001b[0;36mgetsourcelines\u001b[0;34m(object)\u001b[0m\n\u001b[1;32m    998\u001b[0m \u001b[39m\u001b[39m\u001b[39m\"\"\"Return a list of source lines and starting line number for an object.\u001b[39;00m\n\u001b[1;32m    999\u001b[0m \n\u001b[1;32m   1000\u001b[0m \u001b[39mThe argument may be a module, class, method, function, traceback, frame,\u001b[39;00m\n\u001b[0;32m   (...)\u001b[0m\n\u001b[1;32m   1003\u001b[0m \u001b[39moriginal source file the first line of code was found.  An OSError is\u001b[39;00m\n\u001b[1;32m   1004\u001b[0m \u001b[39mraised if the source code cannot be retrieved.\"\"\"\u001b[39;00m\n\u001b[1;32m   1005\u001b[0m \u001b[39mobject\u001b[39m \u001b[39m=\u001b[39m unwrap(\u001b[39mobject\u001b[39m)\n\u001b[0;32m-> 1006\u001b[0m lines, lnum \u001b[39m=\u001b[39m findsource(\u001b[39mobject\u001b[39;49m)\n\u001b[1;32m   1008\u001b[0m \u001b[39mif\u001b[39;00m istraceback(\u001b[39mobject\u001b[39m):\n\u001b[1;32m   1009\u001b[0m     \u001b[39mobject\u001b[39m \u001b[39m=\u001b[39m \u001b[39mobject\u001b[39m\u001b[39m.\u001b[39mtb_frame\n",
      "File \u001b[0;32m/usr/lib/python3.9/inspect.py:835\u001b[0m, in \u001b[0;36mfindsource\u001b[0;34m(object)\u001b[0m\n\u001b[1;32m    833\u001b[0m     lines \u001b[39m=\u001b[39m linecache\u001b[39m.\u001b[39mgetlines(file)\n\u001b[1;32m    834\u001b[0m \u001b[39mif\u001b[39;00m \u001b[39mnot\u001b[39;00m lines:\n\u001b[0;32m--> 835\u001b[0m     \u001b[39mraise\u001b[39;00m \u001b[39mOSError\u001b[39;00m(\u001b[39m'\u001b[39m\u001b[39mcould not get source code\u001b[39m\u001b[39m'\u001b[39m)\n\u001b[1;32m    837\u001b[0m \u001b[39mif\u001b[39;00m ismodule(\u001b[39mobject\u001b[39m):\n\u001b[1;32m    838\u001b[0m     \u001b[39mreturn\u001b[39;00m lines, \u001b[39m0\u001b[39m\n",
      "\u001b[0;31mOSError\u001b[0m: could not get source code"
     ]
    }
   ],
   "source": [
    "inspect.getsource(foo)"
   ]
  },
  {
   "cell_type": "code",
   "execution_count": 29,
   "metadata": {},
   "outputs": [
    {
     "data": {
      "text/plain": [
       "<Signature (x_ptr, y_ptr, output_ptr, n_elements, BLOCK_SIZE: triton.language.core.constexpr)>"
      ]
     },
     "execution_count": 29,
     "metadata": {},
     "output_type": "execute_result"
    }
   ],
   "source": [
    "inspect.signature(add_kernel)"
   ]
  },
  {
   "cell_type": "code",
   "execution_count": null,
   "metadata": {},
   "outputs": [],
   "source": [
    "jitted = JITFunction(\n",
    "                add_kernel,\n",
    "            )"
   ]
  },
  {
   "cell_type": "code",
   "execution_count": null,
   "metadata": {},
   "outputs": [],
   "source": []
  }
 ],
 "metadata": {
  "kernelspec": {
   "display_name": "neurips",
   "language": "python",
   "name": "python3"
  },
  "language_info": {
   "codemirror_mode": {
    "name": "ipython",
    "version": 3
   },
   "file_extension": ".py",
   "mimetype": "text/x-python",
   "name": "python",
   "nbconvert_exporter": "python",
   "pygments_lexer": "ipython3",
   "version": "3.9.17"
  },
  "orig_nbformat": 4
 },
 "nbformat": 4,
 "nbformat_minor": 2
}
